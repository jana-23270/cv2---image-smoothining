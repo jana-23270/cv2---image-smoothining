{
 "cells": [
  {
   "cell_type": "code",
   "execution_count": 4,
   "id": "9c0207e2-1fe6-40b9-9f35-7a92ba82cccd",
   "metadata": {},
   "outputs": [
    {
     "name": "stdout",
     "output_type": "stream",
     "text": [
      "Collecting opencv.python\n",
      "  Using cached opencv_python-4.9.0.80-cp37-abi3-win_amd64.whl.metadata (20 kB)\n",
      "Requirement already satisfied: numpy>=1.21.2 in c:\\users\\janas\\anaconda3\\lib\\site-packages (from opencv.python) (1.26.4)\n",
      "Using cached opencv_python-4.9.0.80-cp37-abi3-win_amd64.whl (38.6 MB)\n",
      "Installing collected packages: opencv.python\n",
      "Successfully installed opencv.python-4.9.0.80\n"
     ]
    }
   ],
   "source": [
    "!pip install opencv.python"
   ]
  },
  {
   "cell_type": "code",
   "execution_count": 9,
   "id": "f4ad8f45-ebd1-48b2-86ff-7b2f1f7826ef",
   "metadata": {},
   "outputs": [],
   "source": [
    "import cv2\n",
    "import numpy as np\n",
    "def cartoonify_image(image_path):\n",
    "    #read the image\n",
    "    img = cv2.imread(image_path)\n",
    "    gray = cv2.cvtColor(img, cv2.COLOR_BGR2GRAY)\n",
    "    smooth  = cv2.bilateralFilter(gray, 9, 300,300)\n",
    "    edges = cv2.adaptiveThreshold(smooth, 255, cv2.ADAPTIVE_THRESH_MEAN_C , cv2.THRESH_BINARY, 9,9)\n",
    "    color = cv2.bilateralFilter(img, 9,300,300)\n",
    "    cartoon = cv2.bitwise_and(color, color, mask=edges)\n",
    "    cv2.imshow('Original Image',img)\n",
    "    cv2.imshow('Cartoonifield',cartoon)\n",
    "    cv2.waitKey(0)\n",
    "    cv2.destroyAllWindows()\n",
    "\n",
    "image_path = 'images.jpeg'\n",
    "cartoonify_image(image_path)"
   ]
  },
  {
   "cell_type": "code",
   "execution_count": null,
   "id": "127ccf91-2dac-4416-b6d5-86452c98a679",
   "metadata": {},
   "outputs": [],
   "source": []
  },
  {
   "cell_type": "code",
   "execution_count": null,
   "id": "70d0cb52-e927-45cf-980e-e94eb362c840",
   "metadata": {},
   "outputs": [],
   "source": []
  }
 ],
 "metadata": {
  "kernelspec": {
   "display_name": "Python 3 (ipykernel)",
   "language": "python",
   "name": "python3"
  },
  "language_info": {
   "codemirror_mode": {
    "name": "ipython",
    "version": 3
   },
   "file_extension": ".py",
   "mimetype": "text/x-python",
   "name": "python",
   "nbconvert_exporter": "python",
   "pygments_lexer": "ipython3",
   "version": "3.11.7"
  }
 },
 "nbformat": 4,
 "nbformat_minor": 5
}
